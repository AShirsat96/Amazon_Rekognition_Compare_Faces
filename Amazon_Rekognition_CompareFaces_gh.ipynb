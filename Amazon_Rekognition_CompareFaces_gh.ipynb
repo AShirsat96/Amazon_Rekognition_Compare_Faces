{
 "cells": [
  {
   "cell_type": "code",
   "execution_count": 1,
   "id": "da3fa773",
   "metadata": {},
   "outputs": [],
   "source": [
    "# Install once only - python official library from AWS\n",
    "# !pip install boto3"
   ]
  },
  {
   "cell_type": "markdown",
   "id": "8d5938c0",
   "metadata": {},
   "source": [
    "### define configuration"
   ]
  },
  {
   "cell_type": "code",
   "execution_count": 2,
   "id": "c96fccbd",
   "metadata": {},
   "outputs": [],
   "source": [
    "aws_accesskey = <Your Access Key>\n",
    "aws_secretaccess = <Your secret access key>\n",
    "myregion= <your region>"
   ]
  },
  {
   "cell_type": "code",
   "execution_count": 3,
   "id": "4a9f7ab6",
   "metadata": {},
   "outputs": [],
   "source": [
    "import boto3"
   ]
  },
  {
   "cell_type": "code",
   "execution_count": 4,
   "id": "20614827",
   "metadata": {},
   "outputs": [],
   "source": [
    "from botocore.exceptions import ClientError, WaiterError"
   ]
  },
  {
   "cell_type": "code",
   "execution_count": 5,
   "id": "ef69c349",
   "metadata": {},
   "outputs": [],
   "source": [
    "def Compare_Faces(aws_access,aws_secret, aws_region,Source_Image,Target_Image):\n",
    "    Rekognition_client = boto3.client('rekognition',aws_access_key_id=aws_access,aws_secret_access_key=aws_secret,region_name =aws_region)\n",
    "    imageSource = open(Source_Image, 'rb')\n",
    "    imageTarget = open(Target_Image, 'rb')\n",
    "    response = Rekognition_client.compare_faces(SimilarityThreshold=80,\n",
    "                                    SourceImage={'Bytes': imageSource.read()},\n",
    "                                    TargetImage={'Bytes': imageTarget.read()})\n",
    "    for faceMatch in response['FaceMatches']:\n",
    "        position = faceMatch['Face']['BoundingBox']\n",
    "        similarity = str(faceMatch['Similarity'])\n",
    "        print('The face at ' +\n",
    "              str(position['Left']) + ' ' +\n",
    "              str(position['Top']) +\n",
    "              ' matches with ' + similarity + '% confidence')\n",
    "    imageSource.close()\n",
    "    imageTarget.close()\n",
    "    return len(response['FaceMatches'])"
   ]
  },
  {
   "cell_type": "code",
   "execution_count": 6,
   "id": "ba10db3c",
   "metadata": {},
   "outputs": [
    {
     "name": "stdout",
     "output_type": "stream",
     "text": [
      "The face at 0.22908954322338104 0.07676751911640167 matches with 99.9935073852539% confidence\n"
     ]
    },
    {
     "data": {
      "text/plain": [
       "1"
      ]
     },
     "execution_count": 6,
     "metadata": {},
     "output_type": "execute_result"
    }
   ],
   "source": [
    "Compare_Faces(aws_accesskey,aws_secretaccess,myregion,<your source image file path>,<your target image file path>)"
   ]
  },
  {
   "cell_type": "code",
   "execution_count": 7,
   "id": "d742f6f5",
   "metadata": {},
   "outputs": [
    {
     "data": {
      "text/plain": [
       "0"
      ]
     },
     "execution_count": 7,
     "metadata": {},
     "output_type": "execute_result"
    }
   ],
   "source": [
    "# When you compares two faces that are different, you get length of the response as 0 which basically means the two faces don't match\n",
    "Compare_Faces(aws_accesskey,aws_secretaccess,myregion,<your source image file path>,<your target image file path>)"
   ]
  }
 ],
 "metadata": {
  "kernelspec": {
   "display_name": "Python 3",
   "language": "python",
   "name": "python3"
  },
  "language_info": {
   "codemirror_mode": {
    "name": "ipython",
    "version": 3
   },
   "file_extension": ".py",
   "mimetype": "text/x-python",
   "name": "python",
   "nbconvert_exporter": "python",
   "pygments_lexer": "ipython3",
   "version": "3.8.8"
  }
 },
 "nbformat": 4,
 "nbformat_minor": 5
}
